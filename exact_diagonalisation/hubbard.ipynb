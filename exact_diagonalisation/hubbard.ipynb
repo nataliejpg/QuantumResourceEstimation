{
 "cells": [
  {
   "cell_type": "code",
   "execution_count": 1,
   "metadata": {
    "code_folding": []
   },
   "outputs": [],
   "source": [
    "# import all relevant libraries dependencies and set up the backend\n",
    "import time\n",
    "import IPython\n",
    "import numpy as np\n",
    "import matplotlib\n",
    "import math\n",
    "import pandas\n",
    "import pickle\n",
    "import subprocess\n",
    "import matplotlib.pyplot as plt\n",
    "%matplotlib inline\n",
    "\n",
    "import scipy\n",
    "import scipy.special \n",
    "import scipy.optimize\n",
    "import scipy.sparse.linalg as LA\n",
    "import scipy.sparse as sparse\n",
    "from scipy.io import loadmat\n",
    "from scipy.optimize import curve_fit\n",
    "from scipy.signal import argrelextrema\n",
    "\n",
    "# add the ED.py functions to the notebook\n",
    "import sys\n",
    "import hubbard as ED \n",
    "\n",
    "from matplotlib import animation, rc\n",
    "# rc('font',**{'family':'sans-serif','sans-serif':['Helvetica'],'size':12})\n",
    "# rc('font',**{'family':'serif','serif':['FreeSerif'],'size':12})\n",
    "rc('text', usetex=True)\n",
    "from cycler import cycler\n",
    "\n",
    "c1_a = '#003AF0'\n",
    "c2_a = '#008F24'\n",
    "c3_a = '#FE7B22'\n",
    "c4_a = '#FE000C'\n",
    "c5_a = '#FB30F2'\n",
    "c6_a = '#82E0AA' #'#FFE135'\n",
    "c7_a = '#9966CC'\n",
    "c8_a = '#7FFFD4'\n",
    "c9_a = '#66FF00'\n",
    "c10_a = '#8B008B'\n",
    "c11_a = '#000000'\n",
    "colours = [c1_a,c2_a,c3_a,c4_a,c5_a,c6_a,c7_a,c8_a,c9_a,c10_a,c11_a]\n",
    "\n",
    "matplotlib.rcParams['backend']='MacOSX'\n",
    "matplotlib.rcParams['savefig.dpi']=250\n",
    "matplotlib.rcParams['text.usetex']=True\n",
    "# matplotlib.rcParams['text.latex.unicode']=True\n",
    "# matplotlib.rcParams['axes.color_cycle'] = [c1_ac2_ac3_ac4_ac5_a]\n",
    "matplotlib.rcParams['axes.prop_cycle'] = cycler('color',colours)\n",
    "# matplotlib.rcParams['axes.'] = \\in\\\n",
    "# matplotlib.rcParams['legend.fancybox']=True\n",
    "matplotlib.rcParams['legend.frameon']=False\n",
    "# matplotlib.rcParams['legend.fontsize']=10\n",
    "matplotlib.rcParams['figure.figsize'] = (10,8)\n",
    "# matplotlib.rcParams['axes.color_cycle'] = colors\n",
    "# matplotlib.rcParams['axes.prop_cycle'] = colors"
   ]
  },
  {
   "cell_type": "code",
   "execution_count": 8,
   "metadata": {
    "code_folding": []
   },
   "outputs": [],
   "source": [
    "# define system parameters\n",
    "p = {}\n",
    "p['L'] = 2 # system length\n",
    "p['W'] = 3 # system width\n",
    "p['N1'] = 3 # number of particles in 1\n",
    "p['N2'] = 3 # number of particles in 2\n",
    "p['t1'] = 1.0 # hopping for species 1\n",
    "p['t2'] = 1.0 # hopping for species 2\n",
    "p['U12'] = 0.0 # on-site interaction between 1 and 2\n",
    "p['mu1'] = 0.0 # chemical potential for 1\n",
    "p['mu2'] = 0.0 # chemical potential for 2\n",
    "p['t_initial'] = 0.0 # begin of time evolution\n",
    "p['dt'] = 0.1#1e-2 # time-step\n",
    "p['t_final'] = 1.0 # end of time evolution\n",
    "p['N'] = p['L'] * p['W'] # system size"
   ]
  },
  {
   "cell_type": "code",
   "execution_count": 3,
   "metadata": {
    "code_folding": [
     0
    ]
   },
   "outputs": [
    {
     "name": "stdout",
     "output_type": "stream",
     "text": [
      "dim(H) = 400\n",
      "state #3 has the unique id (126) and looks like:\n",
      " [[0. 0. 1.]\n",
      " [2. 3. 3.]]\n",
      "Decomposed into its spin-compontents it reads: \n",
      "\n",
      "Spin-Up = 1 :  [0 0 1 1 1 0] \n",
      "\n",
      "Spin-Up = 2 :  [0 0 0 1 1 1] \n",
      "\n",
      "state #325 has the unique id (3249) and looks like: [[3. 0. 2.]\n",
      " [1. 0. 3.]]\n",
      "Decomposed into its spin-compontents it reads: \n",
      "\n",
      "Spin-Up = 1 :  [1 0 0 1 0 1] \n",
      "\n",
      "Spin-Up = 2 :  [1 0 1 1 0 0] \n",
      "\n"
     ]
    }
   ],
   "source": [
    "# get state table and dimension of Hilberspace\n",
    "state_table = ED.generate_state_table(p)\n",
    "print(\"dim(H) = %i\" % (len(state_table)))\n",
    "\n",
    "# look at particular states\n",
    "i = 3\n",
    "state_int = state_table[i]\n",
    "state = ED.int_to_state(p, state_int)\n",
    "print(\"state #%i has the unique id (%i)\" % (i, state_int), \\\n",
    "      \"and looks like:\\n\", ED.reshape_state(p, state))\n",
    "state_projection = ED.project_state_into_spinsectors(ED.int_to_state(p, state_table[i]))\n",
    "print(\"Decomposed into its spin-compontents it reads: \\n\")\n",
    "print(\"Spin-Up = 1 : \", state_projection[0], \"\\n\")\n",
    "print(\"Spin-Up = 2 : \", state_projection[1], \"\\n\")\n",
    "\n",
    "# construct a certain product state\n",
    "statelist = [3,0,2,3,0,1]\n",
    "state_int = ED.state_to_int(p, statelist)\n",
    "i = state_table.index(state_int)\n",
    "state = ED.int_to_state(p, state_int)\n",
    "print(\"state #%i has the unique id (%i)\" % (i,state_int), \\\n",
    "      \"and looks like:\", ED.reshape_state(p, state))\n",
    "state_projection = ED.project_state_into_spinsectors(ED.int_to_state(p, state_table[i]))\n",
    "print(\"Decomposed into its spin-compontents it reads: \\n\")\n",
    "print(\"Spin-Up = 1 : \", state_projection[0], \"\\n\")\n",
    "print(\"Spin-Up = 2 : \", state_projection[1], \"\\n\")"
   ]
  },
  {
   "cell_type": "code",
   "execution_count": 4,
   "metadata": {
    "code_folding": [
     0
    ]
   },
   "outputs": [
    {
     "name": "stdout",
     "output_type": "stream",
     "text": [
      "state id:  423 \n",
      "\n",
      "state =  [0, 1, 2, 2, 1, 3] \n",
      "\n",
      "spin1 = \n",
      " [[0. 1. 0.]\n",
      " [1. 1. 0.]] \n",
      "\n",
      "spin2 = \n",
      " [[0. 0. 1.]\n",
      " [1. 0. 1.]] \n",
      "\n",
      "For (spin, site)\n",
      "b/w (1,0) and (1,0)  => Fsgn =  1\n",
      "b/w (1,0) and (1,1)  => Fsgn =  1\n",
      "b/w (1,0) and (1,2)  => Fsgn =  -1\n",
      "b/w (1,0) and (1,3)  => Fsgn =  -1\n",
      "b/w (1,0) and (1,4)  => Fsgn =  -1\n",
      "b/w (1,0) and (1,5)  => Fsgn =  1\n",
      "b/w (1,0) and (2,0)  => Fsgn =  -1\n",
      "b/w (1,0) and (2,1)  => Fsgn =  -1\n",
      "b/w (1,0) and (2,2)  => Fsgn =  -1\n",
      "b/w (1,0) and (2,3)  => Fsgn =  1\n",
      "b/w (1,0) and (2,4)  => Fsgn =  -1\n",
      "b/w (1,0) and (2,5)  => Fsgn =  -1\n"
     ]
    }
   ],
   "source": [
    "# Check if Fermi-Sign works properly\n",
    "# It should count the occupied sites from (i,sigma) to (j, tau) (excluding both the former, and the latter)\n",
    "# If the number is odd, we get a -ive sign, else +ive\n",
    "\n",
    "# Why? Because we only have correlators of the form <c^{dagger}_{i,sigma}c_{j,tau}> (c.f. hopping and nk \n",
    "# matrices) and rewriting this in terms of Jordan-Wigner strings gives <a^{dagger}_{i,sigma}(JW)a_{j,tau}>\n",
    "# where JW = F_{i,alpha>=sigma}F_{i+1}...F_{j-1}F{j,beta<tau}, now at the beginning of the correlator we thus \n",
    "# have a^{dagger}_{i,sigma}F_{i,sigma} and since a^{dagger} only gives sth. non-zero if it acts on an empty site \n",
    "# |0>, F_{i,sigma}|0> = 1, so we can simplify this to get a^{dagger}_{i,sigma}F_{i,sigma} = a^{dagger}_{i,sigma}\n",
    "# JW -> Thus F_{i,alpha>sigma}F_{i+1}...F_{j-1}F{j,beta<tau} and therefore ONLY includes F matrices which are \n",
    "# strictly between (i,sigma) and (j,tau)\n",
    "\n",
    "\n",
    "# select state\n",
    "i = 25\n",
    "state_int = state_table[i]\n",
    "state = ED.int_to_state(p, state_int)\n",
    "state_projection = ED.project_state_into_spinsectors(ED.int_to_state(p, state_int))\n",
    "reshaped_state_proj = ED.reshape_projected_states(p, state_projection)\n",
    "print(\"state id: \", state_int, \"\\n\")\n",
    "print(\"state = \", state, \"\\n\")\n",
    "print(\"spin1 = \\n\", reshaped_state_proj[0], \"\\n\")\n",
    "print(\"spin2 = \\n\", reshaped_state_proj[1], \"\\n\")\n",
    "\n",
    "print('For (spin, site)')\n",
    "\n",
    "i = 0\n",
    "sigma = 1\n",
    "for tau in [1, 2]:\n",
    "    for j in range(p['N']):\n",
    "        print(\"b/w (%i,%i) and (%i,%i)\" % (sigma, i, tau, j),\n",
    "              \" => Fsgn = \", ED.fermisign(state_projection, i, j, sigma, tau))"
   ]
  },
  {
   "cell_type": "code",
   "execution_count": 5,
   "metadata": {
    "code_folding": [
     0
    ]
   },
   "outputs": [
    {
     "name": "stdout",
     "output_type": "stream",
     "text": [
      "E0 = -8.9282\n"
     ]
    }
   ],
   "source": [
    "# do GS search\n",
    "E0, GS, state_table = ED.calculate_gs(p)\n",
    "print(\"E0 = %.6g\" % (E0))"
   ]
  },
  {
   "cell_type": "code",
   "execution_count": 6,
   "metadata": {
    "code_folding": [
     0
    ]
   },
   "outputs": [
    {
     "name": "stderr",
     "output_type": "stream",
     "text": [
      "/Users/natalie/Dropbox/ResourceEstimation/exact_diagonalisation/hubbard_1d.py:685: UserWarning: No correlation for lattices, tough break pal\n",
      "  warnings.warn('No correlation for lattices, tough break pal')\n"
     ]
    },
    {
     "name": "stdout",
     "output_type": "stream",
     "text": [
      "Elapsed time =  0.8658628463745117 s\n"
     ]
    }
   ],
   "source": [
    "# do GS evolution - should see no dynamics, all is constant in time (since we're in an eigenstate)\n",
    "tic = time.time()\n",
    "sim, state_table = ED.evolve(p, state_table, GS, kind='ket', correlation_measurement=True)\n",
    "toc = time.time()\n",
    "print(\"Elapsed time = \", toc-tic, \"s\")"
   ]
  },
  {
   "cell_type": "code",
   "execution_count": 7,
   "metadata": {
    "code_folding": [
     0
    ],
    "scrolled": false
   },
   "outputs": [
    {
     "data": {
      "image/png": "[encoded data removed]",
      "text/plain": [
       "<Figure size 720x576 with 1 Axes>"
      ]
     },
     "metadata": {
      "needs_background": "light"
     },
     "output_type": "display_data"
    }
   ],
   "source": [
    "# Plot Results\n",
    "fig = plt.figure(figsize=(10,8))\n",
    "i = 3\n",
    "plt.plot(sim['Time'], sim['Re(N1 Site %i)' % (i)], '-', label=r'$n_{i,1}$')\n",
    "plt.plot(sim['Time'], sim['Re(N12 Site %i)' % (i)], '-', label=r'$n_{i,1}n_{i,2}$')\n",
    "plt.plot(sim['Time'], sim['Re(N2 Site %i)' % (i)], '--', label=r'$n_{i,2}$')\n",
    "plt.legend()\n",
    "plt.title(r'$\\textrm{Site} ~ i = %i$' % (i))\n",
    "plt.ylim([0.0, 0.6])\n",
    "plt.xlabel(r'$Jt/\\hbar$')\n",
    "plt.show()\n",
    "plt.close()\n",
    "\n",
    "if 'k' in sim:\n",
    "    fig = plt.figure(figsize=(10,8))\n",
    "    for m in range(p['N']):\n",
    "        plt.plot(sim['Time'], sim['nk1'][m,:], '-', label=r'$n_{k_{%i},1}$' % (m+1))\n",
    "    plt.legend()\n",
    "    plt.xlabel(r'$Jt/\\hbar$')\n",
    "    plt.show()\n",
    "    plt.close()\n",
    "\n",
    "    fig = plt.figure(figsize=(10,8))\n",
    "    for i in range(0, len(sim['Time']), 25):\n",
    "        plt.plot(sim['k']/np.pi, sim['nk1'][:,i], '.-', label=r'$t=%.2f$' % (sim['Time'][i]))\n",
    "    plt.legend()\n",
    "    plt.xlabel(r'$k/\\pi$')\n",
    "    plt.ylabel(r'$n_{k,1}$')\n",
    "    plt.show()\n",
    "    plt.close()"
   ]
  },
  {
   "cell_type": "code",
   "execution_count": 9,
   "metadata": {
    "code_folding": [
     0
    ]
   },
   "outputs": [
    {
     "name": "stdout",
     "output_type": "stream",
     "text": [
      "Elapsed time =  0.601938009262085 s\n"
     ]
    }
   ],
   "source": [
    "# do evolution from a product state (not an eigenstate) - should see dynamics\n",
    "tic = time.time()\n",
    "state = ED.int_to_state(p, state_table[5])\n",
    "# sim, state_table = ED.evolve(p, state_table, state_table[5], kind=\"int\", correlation_measurement=True)\n",
    "sim, state_table = ED.evolve(p, state_table, state, kind=\"list\", correlation_measurement=False,\n",
    "                            trotterised=False)\n",
    "toc = time.time()\n",
    "print(\"Elapsed time = \", toc-tic, \"s\")"
   ]
  },
  {
   "cell_type": "code",
   "execution_count": 10,
   "metadata": {
    "code_folding": [
     0
    ]
   },
   "outputs": [
    {
     "data": {
      "image/png": "[encoded data removed]",
      "text/plain": [
       "<Figure size 720x576 with 1 Axes>"
      ]
     },
     "metadata": {
      "needs_background": "light"
     },
     "output_type": "display_data"
    }
   ],
   "source": [
    "# Plot Results\n",
    "fig = plt.figure(figsize=(10,8))\n",
    "i = 3\n",
    "plt.plot(sim['Time'], sim['Re(N1 Site %i)' % (i)], '-', label=r'$n_{i,1}$')\n",
    "plt.plot(sim['Time'], sim['Re(N12 Site %i)' % (i)], '-', label=r'$n_{i,1}n_{i,2}$')\n",
    "plt.plot(sim['Time'], sim['Re(N2 Site %i)' % (i)], '--', label=r'$n_{i,2}$')\n",
    "plt.legend()\n",
    "plt.title(r'$\\textrm{Site} ~ i = %i$' % (i))\n",
    "plt.xlabel(r'$Jt/\\hbar$')\n",
    "plt.show()\n",
    "plt.close()\n",
    "\n",
    "if 'k' in sim:\n",
    "    fig = plt.figure(figsize=(10,8))\n",
    "    for m in range(p['N']):\n",
    "        plt.plot(sim['Time'], sim['nk1'][m,:], '-', label=r'$n_{k_{%i},1}$' % (m+1))\n",
    "    plt.legend()\n",
    "    plt.xlabel(r'$Jt/\\hbar$')\n",
    "    plt.show()\n",
    "    plt.close()\n",
    "\n",
    "    fig = plt.figure(figsize=(10,8))\n",
    "    for i in range(0, len(sim['Time']), 100):\n",
    "        plt.plot(sim['k']/np.pi, sim['nk1'][:,i], '.-', label=r'$t=%.2f$' % (sim['Time'][i]))\n",
    "    plt.legend()\n",
    "    plt.xlabel(r'$k/\\pi$')\n",
    "    plt.ylabel(r'$n_{k,1}$')\n",
    "    plt.show()\n",
    "    plt.close()"
   ]
  },
  {
   "cell_type": "code",
   "execution_count": 11,
   "metadata": {
    "code_folding": [
     0
    ]
   },
   "outputs": [
    {
     "name": "stdout",
     "output_type": "stream",
     "text": [
      "Elapsed time =  0.9394769668579102 s\n"
     ]
    }
   ],
   "source": [
    "# same evolution but trotterised\n",
    "tic = time.time()\n",
    "state = ED.int_to_state(p, state_table[5])\n",
    "# sim, state_table = ED.evolve(p, state_table, state_table[5], kind=\"int\", correlation_measurement=True)\n",
    "sim_trott, state_table = ED.evolve(p, state_table, state, kind=\"list\", correlation_measurement=False,\n",
    "                            trotterised=True)\n",
    "toc = time.time()\n",
    "print(\"Elapsed time = \", toc-tic, \"s\")\n",
    "\n",
    "sim_errors = ED.calculate_average_errors(p, sim, sim_trott)"
   ]
  },
  {
   "cell_type": "code",
   "execution_count": 12,
   "metadata": {
    "code_folding": [
     0,
     13,
     21
    ]
   },
   "outputs": [
    {
     "data": {
      "image/png": "[encoded data removed]",
      "text/plain": [
       "<Figure size 720x576 with 1 Axes>"
      ]
     },
     "metadata": {
      "needs_background": "light"
     },
     "output_type": "display_data"
    }
   ],
   "source": [
    "# Plot Errors\n",
    "fig = plt.figure(figsize=(10,8))\n",
    "i = 3\n",
    "plt.plot(sim_errors['Time'], sim_errors['Re(N1)'], '-', label=r'$n_1 err$')\n",
    "plt.plot(sim_errors['Time'], sim_errors['Re(N12)'], '-', label=r'$n_1n_2 err$')\n",
    "plt.plot(sim_errors['Time'], sim_errors['Re(N2)'], '--', label=r'$n_2 err$')\n",
    "plt.legend()\n",
    "plt.xlabel(r'$Jt/\\hbar$')\n",
    "plt.show()\n",
    "plt.close()\n",
    "\n",
    "if 'k' in sim_errors:\n",
    "    fig = plt.figure(figsize=(10,8))\n",
    "    for m in range(p['N']):\n",
    "        plt.plot(sim['Time'], sim['nk1'][m,:], '-', label=r'$n_{k_{%i},1}$' % (m+1))\n",
    "    plt.legend()\n",
    "    plt.xlabel(r'$Jt/\\hbar$')\n",
    "    plt.show()\n",
    "    plt.close()\n",
    "\n",
    "    fig = plt.figure(figsize=(10,8))\n",
    "    for i in range(0, len(sim['Time']), 100):\n",
    "        plt.plot(sim['k']/np.pi, sim['nk1'][:,i], '.-', label=r'$t=%.2f$' % (sim['Time'][i]))\n",
    "    plt.legend()\n",
    "    plt.xlabel(r'$k/\\pi$')\n",
    "    plt.ylabel(r'$n_{k,1}$')\n",
    "    plt.show()\n",
    "    plt.close()"
   ]
  },
  {
   "cell_type": "code",
   "execution_count": 12,
   "metadata": {
    "code_folding": [
     0
    ]
   },
   "outputs": [
    {
     "name": "stderr",
     "output_type": "stream",
     "text": [
      "/Users/natalie/Dropbox/ResourceEstimation/exact_diagonalisation/hubbard_1d.py:652: UserWarning: No correlation for lattices, tough break pal\n",
      "  warnings.warn('No correlation for lattices, tough break pal')\n"
     ]
    },
    {
     "name": "stdout",
     "output_type": "stream",
     "text": [
      "Elapsed time =  1.0078179836273193 s\n"
     ]
    }
   ],
   "source": [
    "# do Quench evolution - find GS to initial Hamiltonian and evolve with final Hamiltonian\n",
    "\n",
    "# initial Hamiltonian U12 = 0.0\n",
    "p['U12'] = 0.0\n",
    "E0, GS, state_table = ED.calculate_gs(p)\n",
    "\n",
    "# evolve with final Hamiltonian U12 = -2.0\n",
    "p['U12'] = -2.0\n",
    "tic = time.time()\n",
    "sim, state_table = ED.evolve(p, state_table, GS, kind='ket', correlation_measurement=True)\n",
    "toc = time.time()\n",
    "print(\"Elapsed time = \", toc-tic, \"s\")"
   ]
  },
  {
   "cell_type": "code",
   "execution_count": 13,
   "metadata": {
    "code_folding": [
     0,
     14,
     22
    ]
   },
   "outputs": [
    {
     "data": {
      "image/png": "[encoded data removed]",
      "text/plain": [
       "<Figure size 720x576 with 1 Axes>"
      ]
     },
     "metadata": {
      "needs_background": "light"
     },
     "output_type": "display_data"
    }
   ],
   "source": [
    "# Plot Results\n",
    "fig = plt.figure(figsize=(10,8))\n",
    "i = 3\n",
    "plt.plot(sim['Time'], sim['Re(N1 Site %i)' % (i)], '-', label=r'$n_{i,1}$')\n",
    "plt.plot(sim['Time'], sim['Re(N12 Site %i)' % (i)], '-', label=r'$n_{i,1}n_{i,2}$')\n",
    "plt.plot(sim['Time'], sim['Re(N2 Site %i)' % (i)], '--', label=r'$n_{i,2}$')\n",
    "plt.legend()\n",
    "plt.title(r'$\\textrm{Site} ~ i = %i$' % (i))\n",
    "plt.xlabel(r'$Jt/\\hbar$')\n",
    "plt.show()\n",
    "plt.close()\n",
    "\n",
    "if 'k' in sim:\n",
    "    fig = plt.figure(figsize=(10,8))\n",
    "    for m in range(p['N']):\n",
    "        plt.plot(sim['Time'], sim['nk1'][m,:], '-', label=r'$n_{k_{%i},1}$' % (m+1))\n",
    "    plt.legend()\n",
    "    plt.xlabel(r'$Jt/\\hbar$')\n",
    "    plt.show()\n",
    "    plt.close()\n",
    "\n",
    "    fig = plt.figure(figsize=(10,8))\n",
    "    for i in range(0, len(sim['Time']), 50):\n",
    "        plt.plot(sim['k']/np.pi, sim['nk1'][:,i], '.-', label=r'$t=%.2f$' % (sim['Time'][i]))\n",
    "    plt.legend()\n",
    "    plt.xlabel(r'$k/\\pi$')\n",
    "    plt.ylabel(r'$n_{k,1}$')\n",
    "    plt.show()\n",
    "    plt.close()"
   ]
  },
  {
   "cell_type": "code",
   "execution_count": null,
   "metadata": {},
   "outputs": [],
   "source": []
  }
 ],
 "metadata": {
  "kernelspec": {
   "display_name": "Python 3",
   "language": "python",
   "name": "python3"
  },
  "language_info": {
   "codemirror_mode": {
    "name": "ipython",
    "version": 3
   },
   "file_extension": ".py",
   "mimetype": "text/x-python",
   "name": "python",
   "nbconvert_exporter": "python",
   "pygments_lexer": "ipython3",
   "version": "3.6.7"
  },
  "latex_envs": {
   "LaTeX_envs_menu_present": true,
   "autoclose": false,
   "autocomplete": true,
   "bibliofile": "biblio.bib",
   "cite_by": "apalike",
   "current_citInitial": 1,
   "eqLabelWithNumbers": true,
   "eqNumInitial": 1,
   "hotkeys": {
    "equation": "Ctrl-E",
    "itemize": "Ctrl-I"
   },
   "labels_anchors": false,
   "latex_user_defs": false,
   "report_style_numbering": false,
   "user_envs_cfg": false
  },
  "varInspector": {
   "cols": {
    "lenName": 16,
    "lenType": 16,
    "lenVar": 40
   },
   "kernels_config": {
    "python": {
     "delete_cmd_postfix": "",
     "delete_cmd_prefix": "del ",
     "library": "var_list.py",
     "varRefreshCmd": "print(var_dic_list())"
    },
    "r": {
     "delete_cmd_postfix": ") ",
     "delete_cmd_prefix": "rm(",
     "library": "var_list.r",
     "varRefreshCmd": "cat(var_dic_list()) "
    }
   },
   "types_to_exclude": [
    "module",
    "function",
    "builtin_function_or_method",
    "instance",
    "_Feature"
   ],
   "window_display": false
  }
 },
 "nbformat": 4,
 "nbformat_minor": 2
}
