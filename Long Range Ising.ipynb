{
 "cells": [
  {
   "cell_type": "code",
   "execution_count": 1,
   "metadata": {
    "code_folding": []
   },
   "outputs": [
    {
     "name": "stdout",
     "output_type": "stream",
     "text": [
      "Preparing Q# environment...\n",
      "."
     ]
    }
   ],
   "source": [
    "# import all relevant libraries dependencies and set up the backend\n",
    "import qsharp\n",
    "import time\n",
    "import progressbar\n",
    "import numpy as np\n",
    "import matplotlib.pyplot as plt\n",
    "from qsharp import Result\n",
    "import exact_diagonalisation.ed_ising as ED \n",
    "from Quantum.Isinglongrange import Evolve, EvolveSingleTimestepDummy\n",
    "# from Quantum.Ising2dimport import Evolve, EvolveSingleTimestepDummy\n",
    "\n",
    "c1_a = '#003AF0'\n",
    "c2_a = '#008F24'\n",
    "c3_a = '#FE7B22'\n",
    "c4_a = '#FE000C'\n",
    "c5_a = '#FB30F2'\n",
    "c6_a = '#82E0AA'\n",
    "c7_a = '#9966CC'\n",
    "c8_a = '#7FFFD4'\n",
    "c9_a = '#66FF00'\n",
    "c10_a = '#8B008B'\n",
    "c11_a = '#000000'\n",
    "colors = [c1_a,c2_a,c3_a,c4_a,c5_a,c6_a,c7_a,c8_a,c9_a,c10_a,c11_a]"
   ]
  },
  {
   "cell_type": "markdown",
   "metadata": {},
   "source": [
    "# Time Evolution\n",
    "\n",
    "Assumes an L x W lattice of sites and uses lists length LW to specify hx and hz for each site and a matrix J (LW x LW) specified for the couplings. Evolves under Hamiltonian\n",
    "\\begin{equation}\\label{eq:}\n",
    "H = -\\sum_{i, j>i} J_{ij} \\sigma_z^i\\sigma_z^j - \\sum_{i}hx_i \\sigma_x^i - \\sum_{i}hz_i\\sigma_z^i\n",
    "\\end{equation}\n",
    "\n",
    "Expects initial state of correct shape in 0s and 1s (Z basis) to be specified. An initial state in the X basis can be used instead by specifying the x_rot parameter"
   ]
  },
  {
   "cell_type": "code",
   "execution_count": 2,
   "metadata": {
    "code_folding": []
   },
   "outputs": [],
   "source": [
    "# define system parameters\n",
    "attempt_ED = True\n",
    "xinit = False\n",
    "xmeas = False\n",
    "nnonly = False\n",
    "parallel = True\n",
    "p = {}\n",
    "p['L'] = L = 3 # system length\n",
    "p['W'] = W  = 1 # system width\n",
    "p['N'] = p['L'] * p['W'] # number of system in the system\n",
    "p['hx'] = hx = np.array([1. for _ in range(L * W)]) # transverse Ising field for each site \n",
    "p['hz'] = hz = np.array([0. for _ in range(L * W)]) # longitudinal Ising field for each site \n",
    "J = [[0., 1., 0.],\n",
    "     [1., 0., 1.],\n",
    "     [0., 1., 0.]]\n",
    "# J = [[0., 0., 0., 0.],\n",
    "#      [0., 0., 0., 0.],\n",
    "#      [0., 0., 0., 0.],\n",
    "#      [0., 0., 0., 0.]]\n",
    "\n",
    "# couplings = [0., 1., 0.5, 0.1, 0.]\n",
    "# J = [[0. for _ in range(L * W)] for _ in range(L * W)]\n",
    "# for i in range(L * W):\n",
    "#     for j in range(L * W):\n",
    "#         s_r, s_c = i // W, i % W\n",
    "#         t_r, t_c = j // W, j % W\n",
    "#         if s_r == t_r:\n",
    "#             h_dist = min([abs(s_c - t_c), W - abs(s_c - t_c)])\n",
    "#             J[i][j] = couplings[h_dist]\n",
    "#         elif s_c == t_c:\n",
    "#             v_dist = min([abs(s_r - t_r), L - abs(s_r - t_r)])\n",
    "#             J[i][j] = couplings[v_dist]\n",
    "p['J'] = np.asarray(J) # Ising interaction for all sites (i,j)\n",
    "p['t_initial'] = 0 # begin of time evolution\n",
    "p['dt'] = dt = 0.01 # time-step\n",
    "p['t_final'] = total_time = 1.0 # end of time evolution\n",
    "times = np.linspace(0, total_time, num=11)\n",
    "ave = 500 # measurement count for qsharp meas\n",
    "initial_state = [[0, 1, 0],]\n",
    "flat_initial_state = [item for sub in initial_state for item in sub]\n",
    "state_table = ED.generate_state_table(p)\n",
    "if L * W > 9:\n",
    "    attempt_ED = False"
   ]
  },
  {
   "cell_type": "code",
   "execution_count": 3,
   "metadata": {},
   "outputs": [
    {
     "name": "stdout",
     "output_type": "stream",
     "text": [
      "Exact evolution took  0.047789812088012695 s\n"
     ]
    }
   ],
   "source": [
    "# do exact evolution\n",
    "if attempt_ED:\n",
    "    tic = time.time()\n",
    "    sim, state_table = ED.evolve(p, state_table, flat_initial_state, kind=\"list\", trotterised=True, xinit=xinit)\n",
    "    toc = time.time()\n",
    "    print(\"Exact evolution took \", toc-tic, \"s\")\n",
    "    basis = 'X' if xmeas else 'Z'"
   ]
  },
  {
   "cell_type": "code",
   "execution_count": 4,
   "metadata": {
    "code_folding": [],
    "scrolled": false
   },
   "outputs": [
    {
     "name": "stdout",
     "output_type": "stream",
     "text": [
      "Unhandled exception. System.ArgumentOutOfRangeException: Specified argument was out of the range of valid values.\n",
      " ---> Quantum.Isinglongrange.EvolveSingleTimestep on /Users/natalie/Dropbox/Theory/ResourceEstimation/code/Isinglongrange.qs:line 0\n",
      "   at Quantum.Isinglongrange.Evolve on /Users/natalie/Dropbox/Theory/ResourceEstimation/code/Isinglongrange.qs:line 0\n"
     ]
    },
    {
     "name": "stderr",
     "output_type": "stream",
     "text": [
      "Specified argument was out of the range of valid values.\n"
     ]
    },
    {
     "ename": "ValueError",
     "evalue": "cannot reshape array of size 1 into shape (1,3)",
     "output_type": "error",
     "traceback": [
      "\u001b[0;31m---------------------------------------------------------------------------\u001b[0m",
      "\u001b[0;31mValueError\u001b[0m                                Traceback (most recent call last)",
      "\u001b[0;32m<ipython-input-4-63636eacf0cf>\u001b[0m in \u001b[0;36m<module>\u001b[0;34m\u001b[0m\n\u001b[1;32m      9\u001b[0m                 \u001b[0minitialState\u001b[0m\u001b[0;34m=\u001b[0m\u001b[0mflat_initial_state\u001b[0m\u001b[0;34m,\u001b[0m \u001b[0mtime\u001b[0m\u001b[0;34m=\u001b[0m\u001b[0mt\u001b[0m\u001b[0;34m,\u001b[0m \u001b[0mdt\u001b[0m\u001b[0;34m=\u001b[0m\u001b[0mdt\u001b[0m\u001b[0;34m,\u001b[0m \u001b[0mg\u001b[0m\u001b[0;34m=\u001b[0m\u001b[0mlist\u001b[0m\u001b[0;34m(\u001b[0m\u001b[0mhx\u001b[0m\u001b[0;34m)\u001b[0m\u001b[0;34m,\u001b[0m \u001b[0mh\u001b[0m\u001b[0;34m=\u001b[0m\u001b[0mlist\u001b[0m\u001b[0;34m(\u001b[0m\u001b[0mhz\u001b[0m\u001b[0;34m)\u001b[0m\u001b[0;34m,\u001b[0m \u001b[0mJ\u001b[0m\u001b[0;34m=\u001b[0m\u001b[0mJ\u001b[0m\u001b[0;34m,\u001b[0m\u001b[0;34m\u001b[0m\u001b[0;34m\u001b[0m\u001b[0m\n\u001b[1;32m     10\u001b[0m                 nnonly=nnonly, parallel=parallel, xinit=xinit, xmeas=xmeas)\n\u001b[0;32m---> 11\u001b[0;31m         \u001b[0mresult\u001b[0m\u001b[0;34m[\u001b[0m\u001b[0mi\u001b[0m\u001b[0;34m]\u001b[0m \u001b[0;34m+=\u001b[0m \u001b[0mnp\u001b[0m\u001b[0;34m.\u001b[0m\u001b[0marray\u001b[0m\u001b[0;34m(\u001b[0m\u001b[0mres\u001b[0m\u001b[0;34m)\u001b[0m\u001b[0;34m.\u001b[0m\u001b[0mreshape\u001b[0m\u001b[0;34m(\u001b[0m\u001b[0mnp\u001b[0m\u001b[0;34m.\u001b[0m\u001b[0marray\u001b[0m\u001b[0;34m(\u001b[0m\u001b[0minitial_state\u001b[0m\u001b[0;34m)\u001b[0m\u001b[0;34m.\u001b[0m\u001b[0mshape\u001b[0m\u001b[0;34m)\u001b[0m \u001b[0;34m/\u001b[0m \u001b[0mave\u001b[0m\u001b[0;34m\u001b[0m\u001b[0;34m\u001b[0m\u001b[0m\n\u001b[0m\u001b[1;32m     12\u001b[0m     \u001b[0mpoints_taken\u001b[0m \u001b[0;34m+=\u001b[0m \u001b[0;36m1\u001b[0m\u001b[0;34m\u001b[0m\u001b[0;34m\u001b[0m\u001b[0m\n\u001b[1;32m     13\u001b[0m     \u001b[0mprogress_bar\u001b[0m\u001b[0;34m.\u001b[0m\u001b[0mupdate\u001b[0m\u001b[0;34m(\u001b[0m\u001b[0mpoints_taken\u001b[0m\u001b[0;34m)\u001b[0m\u001b[0;34m\u001b[0m\u001b[0;34m\u001b[0m\u001b[0m\n",
      "\u001b[0;31mValueError\u001b[0m: cannot reshape array of size 1 into shape (1,3)"
     ]
    }
   ],
   "source": [
    "# do qsharp evolution\n",
    "tic = time.time()\n",
    "result = np.zeros((len(times), *np.array(initial_state).shape))\n",
    "progress_bar = progressbar.ProgressBar(max_value=ave)\n",
    "points_taken = 0\n",
    "for _ in range(ave):\n",
    "    for i, t in enumerate(times):\n",
    "        res = Evolve.simulate(\n",
    "                initialState=flat_initial_state, time=t, dt=dt, g=list(hx), h=list(hz), J=J,\n",
    "                nnonly=nnonly, parallel=parallel, xinit=xinit, xmeas=xmeas)\n",
    "        result[i] += np.array(res).reshape(np.array(initial_state).shape) / ave\n",
    "    points_taken += 1\n",
    "    progress_bar.update(points_taken)\n",
    "toc = time.time()\n",
    "print(\"Q# Evolution took {} mins {} s\".format(int((toc-tic) // 60), int((toc-tic) % 60)))"
   ]
  },
  {
   "cell_type": "code",
   "execution_count": null,
   "metadata": {},
   "outputs": [],
   "source": []
  },
  {
   "cell_type": "code",
   "execution_count": 5,
   "metadata": {},
   "outputs": [],
   "source": [
    "def EvolveCouplingsAllToAll(J, mapping, qubits):\n",
    "    nSites = len(qubits)\n",
    "    idxTarget = 0\n",
    "    for step in np.arange(nSites):\n",
    "        print('step: {},  mapping: {}'.format(step, mapping))\n",
    "        if (step % 2 == 0):\n",
    "            for idxSource in np.arange(nSites//2):\n",
    "                idxTarget = nSites - idxSource - 1\n",
    "                print('source: {}, target: {}, J{}{}'.format(qubits[mapping[idxSource]],\n",
    "                                                             qubits[mapping[idxTarget]],\n",
    "                                                             mapping[idxSource],\n",
    "                                                             mapping[idxTarget]))\n",
    "            for idx in np.arange((nSites + 1)//2):\n",
    "                mapping[nSites - idx], mapping[nSites - idx - 1] = mapping[nSites - idx - 1], mapping[nSites - idx]\n",
    "        else:\n",
    "            for idxSource in np.arange((nSites - 1)//2):\n",
    "                idxTarget = nSites - idxSource - 1\n",
    "                print('source: {}, target: {}, J{}{}'.format(qubits[mapping[idxSource]],\n",
    "                                                             qubits[mapping[idxTarget]],\n",
    "                                                             mapping[idxSource],\n",
    "                                                             mapping[idxTarget]))\n",
    "            for ind in np.arange(nSites//2):\n",
    "                mapping[nSites//2 - ind], mapping[nSites//2 - ind - 1] = mapping[nSites//2 - ind - 1], mapping[nSites//2 - ind]\n",
    "            mapping[0], mapping[nSites] = mapping[nSites], mapping[0]\n",
    "    print('mapping: {}'.format(mapping))\n"
   ]
  },
  {
   "cell_type": "code",
   "execution_count": 7,
   "metadata": {},
   "outputs": [
    {
     "name": "stdout",
     "output_type": "stream",
     "text": [
      "step: 0,  mapping: [ 0  1  2  3  4 -1]\n",
      "source: 0, target: 4, J04\n",
      "source: 1, target: 3, J13\n",
      "step: 1,  mapping: [ 0  1 -1  2  3  4]\n",
      "source: 0, target: 3, J03\n",
      "source: 1, target: 2, J12\n",
      "step: 2,  mapping: [ 4  0  1  2  3 -1]\n",
      "source: 4, target: 3, J43\n",
      "source: 0, target: 2, J02\n",
      "step: 3,  mapping: [ 4  0 -1  1  2  3]\n",
      "source: 4, target: 2, J42\n",
      "source: 0, target: 1, J01\n",
      "step: 4,  mapping: [ 3  4  0  1  2 -1]\n",
      "source: 3, target: 2, J32\n",
      "source: 4, target: 1, J41\n",
      "mapping: [ 3  4 -1  0  1  2]\n",
      "step: 0,  mapping: [ 3  4 -1  0  1  2]\n",
      "source: 3, target: 1, J31\n",
      "source: 4, target: 0, J40\n",
      "step: 1,  mapping: [ 3  4  2 -1  0  1]\n",
      "source: 3, target: 0, J30\n",
      "source: 4, target: 4, J4-1\n",
      "step: 2,  mapping: [ 1  3  4 -1  0  2]\n",
      "source: 1, target: 0, J10\n",
      "source: 3, target: 4, J3-1\n",
      "step: 3,  mapping: [ 1  3  2  4 -1  0]\n",
      "source: 1, target: 4, J1-1\n",
      "source: 3, target: 4, J34\n",
      "step: 4,  mapping: [ 0  1  3  4 -1  2]\n",
      "source: 0, target: 4, J0-1\n",
      "source: 1, target: 4, J14\n",
      "mapping: [ 0  1  2  3  4 -1]\n"
     ]
    }
   ],
   "source": [
    "mapping = np.array([0, 1, 2, 3, 4, -1])\n",
    "qubits = np.array([0, 1, 2, 3, 4])\n",
    "EvolveCouplingsAllToAll(J, mapping,qubits)\n",
    "EvolveCouplingsAllToAll(J, mapping,qubits )"
   ]
  },
  {
   "cell_type": "code",
   "execution_count": null,
   "metadata": {},
   "outputs": [],
   "source": []
  },
  {
   "cell_type": "code",
   "execution_count": null,
   "metadata": {},
   "outputs": [],
   "source": []
  },
  {
   "cell_type": "code",
   "execution_count": 5,
   "metadata": {},
   "outputs": [
    {
     "data": {
      "text/plain": [
       "<matplotlib.legend.Legend at 0x7f910205e780>"
      ]
     },
     "execution_count": 5,
     "metadata": {},
     "output_type": "execute_result"
    },
    {
     "data": {
      "image/png": "[encoded data removed]",
      "text/plain": [
       "<Figure size 432x288 with 1 Axes>"
      ]
     },
     "metadata": {
      "needs_background": "light"
     },
     "output_type": "display_data"
    }
   ],
   "source": [
    "# plot\n",
    "fig = plt.figure()\n",
    "qubits = [(0, 0), (0, 1), (0, 2)]\n",
    "for i, q in enumerate(qubits):\n",
    "    site = p['W']*q[0]+q[1]\n",
    "    if attempt_ED:\n",
    "        site_res = 1 - (sim['{}i Site {}'.format(basis, site)] + 1) / 2\n",
    "        plt.plot(sim['Time'], site_res, label='{}'.format(q), marker='', linestyle='-', color=colors[i])\n",
    "    plt.plot(times, result[:, q[0], q[1]], color=colors[i], marker='o', linestyle='--')\n",
    "plt.ylim(0, 1)  \n",
    "handles, labels = fig.axes[0].get_legend_handles_labels()\n",
    "handles = list(handles) + [plt.Line2D((0, 1), (0, 0), color='k', linestyle='-'),\n",
    "                           plt.Line2D((0, 1), (0, 0), color='k',linestyle='--')]\n",
    "labels = list(labels) + ['ED', 'Q#']\n",
    "plt.xlabel('time')\n",
    "plt.ylabel('time')\n",
    "plt.legend(handles, labels)"
   ]
  },
  {
   "cell_type": "markdown",
   "metadata": {},
   "source": [
    "# Resource Estimation\n",
    "\n",
    "Estimate the resources for the full evolution (1st order) and for a single timestep. Currently the depth only measures T gates of which there are none."
   ]
  },
  {
   "cell_type": "code",
   "execution_count": 9,
   "metadata": {},
   "outputs": [
    {
     "name": "stdout",
     "output_type": "stream",
     "text": [
      "Full Evolution\n",
      "\tCNOT: 1200\n",
      " \tQubitClifford: 1\n",
      " \tR: 1400\n",
      " \tMeasure: 4\n",
      " \tT: 0\n",
      " \tDepth: 0\n",
      " \tWidth: 4\n",
      " \tBorrowedWidth: 0\n",
      "\n",
      "Single Timestep\n",
      "\tCNOT: 12\n",
      " \tQubitClifford: 0\n",
      " \tR: 14\n",
      " \tMeasure: 0\n",
      " \tT: 0\n",
      " \tDepth: 0\n",
      " \tWidth: 4\n",
      " \tBorrowedWidth: 0\n",
      "\n"
     ]
    }
   ],
   "source": [
    "# estimate resources\n",
    "full_gatecount = Evolve.estimate_resources(\n",
    "                    initialState=flat_initial_state, time=t, dt=dt, g=list(hx), h=list(hz), J=J,\n",
    "                    nested=nested, nnonly=nnonly, xinit=xinit, xmeas=xmeas)\n",
    "timestep_gatecount = EvolveSingleTimestepDummy.estimate_resources(\n",
    "                        nSites=len(flat_initial_state), dt=dt, g=list(hx), h=list(hz), J=J,\n",
    "                        nested=nested, nnonly=nnonly)\n",
    "\n",
    "print('Full Evolution')\n",
    "print(*['\\t{}: {}\\n'.format(k, v) for k, v in full_gatecount.items()])\n",
    "print('Single Timestep')\n",
    "print(*['\\t{}: {}\\n'.format(k, v) for k, v in timestep_gatecount.items()])"
   ]
  },
  {
   "cell_type": "code",
   "execution_count": null,
   "metadata": {},
   "outputs": [],
   "source": []
  }
 ],
 "metadata": {
  "kernelspec": {
   "display_name": "Python 3",
   "language": "python",
   "name": "python3"
  },
  "language_info": {
   "codemirror_mode": {
    "name": "ipython",
    "version": 3
   },
   "file_extension": ".py",
   "mimetype": "text/x-python",
   "name": "python",
   "nbconvert_exporter": "python",
   "pygments_lexer": "ipython3",
   "version": "3.6.7"
  },
  "latex_envs": {
   "LaTeX_envs_menu_present": true,
   "autoclose": false,
   "autocomplete": true,
   "bibliofile": "biblio.bib",
   "cite_by": "apalike",
   "current_citInitial": 1,
   "eqLabelWithNumbers": true,
   "eqNumInitial": 1,
   "hotkeys": {
    "equation": "Ctrl-E",
    "itemize": "Ctrl-I"
   },
   "labels_anchors": false,
   "latex_user_defs": false,
   "report_style_numbering": false,
   "user_envs_cfg": false
  },
  "varInspector": {
   "cols": {
    "lenName": 16,
    "lenType": 16,
    "lenVar": 40
   },
   "kernels_config": {
    "python": {
     "delete_cmd_postfix": "",
     "delete_cmd_prefix": "del ",
     "library": "var_list.py",
     "varRefreshCmd": "print(var_dic_list())"
    },
    "r": {
     "delete_cmd_postfix": ") ",
     "delete_cmd_prefix": "rm(",
     "library": "var_list.r",
     "varRefreshCmd": "cat(var_dic_list()) "
    }
   },
   "types_to_exclude": [
    "module",
    "function",
    "builtin_function_or_method",
    "instance",
    "_Feature"
   ],
   "window_display": false
  }
 },
 "nbformat": 4,
 "nbformat_minor": 2
}
