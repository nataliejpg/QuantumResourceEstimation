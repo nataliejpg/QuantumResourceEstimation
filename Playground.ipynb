{
 "cells": [
  {
   "cell_type": "code",
   "execution_count": 4,
   "metadata": {},
   "outputs": [
    {
     "name": "stdout",
     "output_type": "stream",
     "text": [
      "/snippet_.qs(3,6): warning QS6003: The namespace is already open.\n",
      "/snippet_.qs(4,6): warning QS6003: The namespace is already open.\n"
     ]
    },
    {
     "data": {
      "application/json": "[\"ApplySingleQubitTerms\",\"ApplyTwoQubitTerms\",\"ApplyZZ\",\"Evolve\",\"EvolveSingleTimestep\",\"EvolveSingleTimestepDummy\"]",
      "text/html": [
       "<ul><li>ApplySingleQubitTerms</li><li>ApplyTwoQubitTerms</li><li>ApplyZZ</li><li>Evolve</li><li>EvolveSingleTimestep</li><li>EvolveSingleTimestepDummy</li></ul>"
      ],
      "text/plain": [
       "ApplySingleQubitTerms, ApplyTwoQubitTerms, ApplyZZ, Evolve, EvolveSingleTimestep, EvolveSingleTimestepDummy"
      ]
     },
     "execution_count": 4,
     "metadata": {},
     "output_type": "execute_result"
    }
   ],
   "source": [
    "open Microsoft.Quantum.Arrays;\n",
    "open Microsoft.Quantum.Measurement;\n",
    "open Microsoft.Quantum.Intrinsic;\n",
    "open Microsoft.Quantum.Canon;\n",
    "open Microsoft.Quantum.Math;\n",
    "open Microsoft.Quantum.Convert;\n",
    "\n",
    "//     H ≔ - J Σ'ᵢⱼ Zᵢ Zⱼ - hZ Σᵢ Zᵢ - hX Σᵢ Xᵢ\n",
    "\n",
    "operation ApplyZZ(phi : Double, q1 : Qubit, q2 : Qubit) : Unit is Adj + Ctl {\n",
    "    ApplyWithCA(CNOT(q1, _), Rz(-2.0 * phi, _), q2);\n",
    "}\n",
    "\n",
    "operation ApplySingleQubitTerms(nSites: Int, dt: Double, hx: Double[], hz: Double[], qubits : Qubit[]): Unit is Adj + Ctl {\n",
    "    for (idxSite in 0 .. nSites - 1) {\n",
    "        Rx((-2.0 * hx[idxSite]) * dt, qubits[idxSite]);\n",
    "        Rz((-2.0 * hz[idxSite]) * dt, qubits[idxSite]);\n",
    "        }\n",
    "}\n",
    "\n",
    "operation ApplyTwoQubitTerms(nSites: Int, dt: Double, J: Double[][], qubits : Qubit[]): Unit is Adj + Ctl {\n",
    "    let rows = Length(J);\n",
    "    let cols = Length(J[0]);\n",
    "    for (i in 0 .. rows - 1) {\n",
    "        for (j in 0 .. cols - 1) {\n",
    "            ApplyZZ(J[i][j] * dt, qubits[i], qubits[j]);\n",
    "        }\n",
    "    }\n",
    "}\n",
    "\n",
    "operation EvolveSingleTimestep(nSites: Int, dt: Double, hx: Double[], hz: Double[], J: Double[][], qubits : Qubit[]): Unit is Adj + Ctl {\n",
    "    ApplySingleQubitTerms(nSites, dt, hx, hz, qubits);\n",
    "    ApplyTwoQubitTerms(nSites, dt, J, qubits);\n",
    "}\n",
    "\n",
    "operation EvolveSingleTimestepDummy(nSites: Int, dt: Double, hx: Double[], hz: Double[], J: Double[][]): Unit is Adj + Ctl {\n",
    "    using (qubits = Qubit[nSites]) {\n",
    "        ApplySingleQubitTerms(nSites, dt, hx, hz, qubits);\n",
    "        ApplyTwoQubitTerms(nSites, dt, J, qubits);\n",
    "    }\n",
    "}\n",
    "\n",
    "operation Evolve(initialState: Int[], time: Double, dt: Double, hx: Double[], hz: Double[], J: Double[][]): Result[] {\n",
    "    let nSites = Length(initialState);\n",
    "    using (qubits = Qubit[nSites]) {\n",
    "        for (idxSite in 0 .. nSites - 1) {\n",
    "            if (initialState[idxSite] == 1) {\n",
    "                X(qubits[idxSite]);\n",
    "            }\n",
    "        }\n",
    "        let nSteps = Floor(time / dt);\n",
    "        for (idxIter in 0 .. nSteps - 1) {\n",
    "            EvolveSingleTimestep(nSites, dt, hx, hz, J, qubits);\n",
    "        }\n",
    "        return ForEach(MResetZ, qubits);\n",
    "    }\n",
    "}"
   ]
  },
  {
   "cell_type": "code",
   "execution_count": null,
   "metadata": {},
   "outputs": [],
   "source": []
  },
  {
   "cell_type": "code",
   "execution_count": null,
   "metadata": {},
   "outputs": [],
   "source": []
  }
 ],
 "metadata": {
  "kernelspec": {
   "display_name": "Q#",
   "language": "qsharp",
   "name": "iqsharp"
  },
  "language_info": {
   "file_extension": ".qs",
   "mimetype": "text/x-qsharp",
   "name": "qsharp",
   "version": "0.10"
  },
  "latex_envs": {
   "LaTeX_envs_menu_present": true,
   "autoclose": false,
   "autocomplete": true,
   "bibliofile": "biblio.bib",
   "cite_by": "apalike",
   "current_citInitial": 1,
   "eqLabelWithNumbers": true,
   "eqNumInitial": 1,
   "hotkeys": {
    "equation": "Ctrl-E",
    "itemize": "Ctrl-I"
   },
   "labels_anchors": false,
   "latex_user_defs": false,
   "report_style_numbering": false,
   "user_envs_cfg": false
  }
 },
 "nbformat": 4,
 "nbformat_minor": 2
}
