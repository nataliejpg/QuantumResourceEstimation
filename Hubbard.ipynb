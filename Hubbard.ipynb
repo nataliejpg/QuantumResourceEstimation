{
 "cells": [
  {
   "cell_type": "code",
   "execution_count": 1,
   "metadata": {
    "code_folding": []
   },
   "outputs": [],
   "source": [
    "# import all relevant libraries dependencies and set up the backend\n",
    "import qsharp\n",
    "import numpy as np\n",
    "import matplotlib\n",
    "import sys\n",
    "import time\n",
    "import matplotlib.pyplot as plt\n",
    "from qsharp import Result\n",
    "from Quantum.Hubbard import Evolve, EvolveSingleTimestepDummy\n",
    "import exact_diagonalisation.ed_hubbard as ED \n",
    "from cycler import cycler\n",
    "%matplotlib inline\n",
    "\n",
    "c1_a = '#003AF0'\n",
    "c2_a = '#008F24'\n",
    "c3_a = '#FE7B22'\n",
    "c4_a = '#FE000C'\n",
    "c5_a = '#FB30F2'\n",
    "c6_a = '#82E0AA'\n",
    "c7_a = '#9966CC'\n",
    "c8_a = '#7FFFD4'\n",
    "c9_a = '#66FF00'\n",
    "c10_a = '#8B008B'\n",
    "c11_a = '#000000'\n",
    "colors = [c1_a,c2_a,c3_a,c4_a,c5_a,c6_a,c7_a,c8_a,c9_a,c10_a,c11_a]"
   ]
  },
  {
   "cell_type": "code",
   "execution_count": 10,
   "metadata": {
    "code_folding": []
   },
   "outputs": [],
   "source": [
    "# define system parameters\n",
    "p = {}\n",
    "p['L'] = 3 # system length\n",
    "p['W'] = 2 # system width\n",
    "p['N1'] = 6 # number of particles in 1\n",
    "p['N2'] = 6 # number of particles in 2\n",
    "p['t1'] = p['t2'] = J = 1.0 # hopping\n",
    "p['U12'] = U = 0.3 # on-site interaction between 1 and 2\n",
    "p['mu1'] = p['mu2'] = mu = 0.1 # chemical potential\n",
    "p['t_initial'] = 0.0 # begin of time evolution\n",
    "p['dt'] = dt = 0.01 # time-step\n",
    "p['t_final'] = total_time = 1.0 # end of time evolution\n",
    "p['N'] = N = p['L'] * p['W'] # system size\n",
    "ave = 50\n",
    "if p['W'] == 2:\n",
    "    structure = 3\n",
    "elif p['W'] == p['L']:\n",
    "    structure = 4\n",
    "else:\n",
    "    structure = 1"
   ]
  },
  {
   "cell_type": "code",
   "execution_count": 7,
   "metadata": {
    "code_folding": []
   },
   "outputs": [
    {
     "data": {
      "text/plain": [
       "array([[1, 0, 0, 1, 1, 1],\n",
       "       [1, 0, 0, 0, 1, 0]])"
      ]
     },
     "execution_count": 7,
     "metadata": {},
     "output_type": "execute_result"
    }
   ],
   "source": [
    "# generate random initial state\n",
    "state_table = ED.generate_state_table(p)\n",
    "state_int = state_table[np.random.randint(len(state_table))]\n",
    "initial_state = ED.int_to_state(p, state_int)\n",
    "ED.project_state_into_spinsectors(initial_state)"
   ]
  },
  {
   "cell_type": "code",
   "execution_count": 8,
   "metadata": {
    "code_folding": [
     2
    ]
   },
   "outputs": [
    {
     "name": "stdout",
     "output_type": "stream",
     "text": [
      "Exact evolution took  20.221701860427856 s\n"
     ]
    }
   ],
   "source": [
    "# do exact evolution\n",
    "tic = time.time()\n",
    "sim, state_table = ED.evolve(\n",
    "    p, state_table, initial_state, kind=\"list\",\n",
    "    correlation_measurement=False, trotterised=False)\n",
    "toc = time.time()\n",
    "print(\"Exact evolution took \", toc-tic, \"s\")"
   ]
  },
  {
   "cell_type": "code",
   "execution_count": 13,
   "metadata": {
    "scrolled": false
   },
   "outputs": [
    {
     "name": "stdout",
     "output_type": "stream",
     "text": [
      "Unhandled exception. Microsoft.Quantum.Simulation.Simulators.Exceptions.NotDistinctQubits: Trying to apply an intrinsic operation with a qubit repeated in the argument list (qubit:q:7).\n",
      " ---> Microsoft.Quantum.Intrinsic.X on :line 0\n",
      "   at Microsoft.Quantum.Intrinsic.CNOT on /Users/natalie/Dropbox/ResourceEstimation/code/D:/a/1/s/submodules/qsharp-runtime/src/Simulation/QsharpCore/Intrinsic.qs:line 0\n",
      "   at Quantum.Hubbard.ApplyRowHoppingTerms on /Users/natalie/Dropbox/ResourceEstimation/code/Hubbard.qs:line 0\n",
      "   at Quantum.Hubbard.ApplyHoppingTermsLadderHorizontal on /Users/natalie/Dropbox/ResourceEstimation/code/Hubbard.qs:line 0\n",
      "   at Quantum.Hubbard.EvolveSingleTimestep on /Users/natalie/Dropbox/ResourceEstimation/code/Hubbard.qs:line 0\n",
      "   at Quantum.Hubbard.Evolve on /Users/natalie/Dropbox/ResourceEstimation/code/Hubbard.qs:line 0\n"
     ]
    },
    {
     "name": "stderr",
     "output_type": "stream",
     "text": [
      "Trying to apply an intrinsic operation with a qubit repeated in the argument list (qubit:q:7).\n"
     ]
    },
    {
     "ename": "TypeError",
     "evalue": "object of type 'NoneType' has no len()",
     "output_type": "error",
     "traceback": [
      "\u001b[0;31m---------------------------------------------------------------------------\u001b[0m",
      "\u001b[0;31mTypeError\u001b[0m                                 Traceback (most recent call last)",
      "\u001b[0;32m<ipython-input-13-323f71d5d500>\u001b[0m in \u001b[0;36m<module>\u001b[0;34m\u001b[0m\n\u001b[1;32m      9\u001b[0m             \u001b[0minitialState\u001b[0m\u001b[0;34m=\u001b[0m\u001b[0minitial_state\u001b[0m\u001b[0;34m,\u001b[0m \u001b[0mtime\u001b[0m\u001b[0;34m=\u001b[0m\u001b[0mt\u001b[0m\u001b[0;34m,\u001b[0m \u001b[0mdt\u001b[0m\u001b[0;34m=\u001b[0m\u001b[0mdt\u001b[0m\u001b[0;34m,\u001b[0m \u001b[0mmu\u001b[0m\u001b[0;34m=\u001b[0m\u001b[0mmu\u001b[0m\u001b[0;34m,\u001b[0m \u001b[0mU\u001b[0m\u001b[0;34m=\u001b[0m\u001b[0mU\u001b[0m\u001b[0;34m,\u001b[0m \u001b[0mJ\u001b[0m\u001b[0;34m=\u001b[0m\u001b[0mJ\u001b[0m\u001b[0;34m,\u001b[0m\u001b[0;34m\u001b[0m\u001b[0;34m\u001b[0m\u001b[0m\n\u001b[1;32m     10\u001b[0m             structure=structure)\n\u001b[0;32m---> 11\u001b[0;31m         \u001b[0mresult_up\u001b[0m\u001b[0;34m[\u001b[0m\u001b[0mi\u001b[0m\u001b[0;34m]\u001b[0m \u001b[0;34m+=\u001b[0m \u001b[0mED\u001b[0m\u001b[0;34m.\u001b[0m\u001b[0mproject_state_into_spinsectors\u001b[0m\u001b[0;34m(\u001b[0m\u001b[0mres\u001b[0m\u001b[0;34m)\u001b[0m\u001b[0;34m[\u001b[0m\u001b[0;36m0\u001b[0m\u001b[0;34m]\u001b[0m \u001b[0;34m/\u001b[0m \u001b[0mave\u001b[0m\u001b[0;34m\u001b[0m\u001b[0;34m\u001b[0m\u001b[0m\n\u001b[0m\u001b[1;32m     12\u001b[0m         \u001b[0mresult_down\u001b[0m\u001b[0;34m[\u001b[0m\u001b[0mi\u001b[0m\u001b[0;34m]\u001b[0m \u001b[0;34m+=\u001b[0m \u001b[0mED\u001b[0m\u001b[0;34m.\u001b[0m\u001b[0mproject_state_into_spinsectors\u001b[0m\u001b[0;34m(\u001b[0m\u001b[0mres\u001b[0m\u001b[0;34m)\u001b[0m\u001b[0;34m[\u001b[0m\u001b[0;36m1\u001b[0m\u001b[0;34m]\u001b[0m \u001b[0;34m/\u001b[0m \u001b[0mave\u001b[0m\u001b[0;34m\u001b[0m\u001b[0;34m\u001b[0m\u001b[0m\n\u001b[1;32m     13\u001b[0m \u001b[0mtoc\u001b[0m \u001b[0;34m=\u001b[0m \u001b[0mtime\u001b[0m\u001b[0;34m.\u001b[0m\u001b[0mtime\u001b[0m\u001b[0;34m(\u001b[0m\u001b[0;34m)\u001b[0m\u001b[0;34m\u001b[0m\u001b[0;34m\u001b[0m\u001b[0m\n",
      "\u001b[0;32m~/Dropbox/ResourceEstimation/code/exact_diagonalisation/ed_hubbard.py\u001b[0m in \u001b[0;36mproject_state_into_spinsectors\u001b[0;34m(statelist)\u001b[0m\n\u001b[1;32m    242\u001b[0m     \u001b[0;31m# rewrite spin configuration into configurations for each species\u001b[0m\u001b[0;34m\u001b[0m\u001b[0;34m\u001b[0m\u001b[0;34m\u001b[0m\u001b[0m\n\u001b[1;32m    243\u001b[0m     \u001b[0;31m# seperately\u001b[0m\u001b[0;34m\u001b[0m\u001b[0;34m\u001b[0m\u001b[0;34m\u001b[0m\u001b[0m\n\u001b[0;32m--> 244\u001b[0;31m     \u001b[0mL\u001b[0m \u001b[0;34m=\u001b[0m \u001b[0mlen\u001b[0m\u001b[0;34m(\u001b[0m\u001b[0mstatelist\u001b[0m\u001b[0;34m)\u001b[0m\u001b[0;34m\u001b[0m\u001b[0;34m\u001b[0m\u001b[0m\n\u001b[0m\u001b[1;32m    245\u001b[0m     \u001b[0mstate1\u001b[0m \u001b[0;34m=\u001b[0m \u001b[0;34m[\u001b[0m\u001b[0;36m0\u001b[0m\u001b[0;34m]\u001b[0m \u001b[0;34m*\u001b[0m \u001b[0mL\u001b[0m\u001b[0;34m\u001b[0m\u001b[0;34m\u001b[0m\u001b[0m\n\u001b[1;32m    246\u001b[0m     \u001b[0mstate2\u001b[0m \u001b[0;34m=\u001b[0m \u001b[0;34m[\u001b[0m\u001b[0;36m0\u001b[0m\u001b[0;34m]\u001b[0m \u001b[0;34m*\u001b[0m \u001b[0mL\u001b[0m\u001b[0;34m\u001b[0m\u001b[0;34m\u001b[0m\u001b[0m\n",
      "\u001b[0;31mTypeError\u001b[0m: object of type 'NoneType' has no len()"
     ]
    }
   ],
   "source": [
    "# do qsharp evolution\n",
    "tic = time.time()\n",
    "times = np.linspace(0, total_time, num=10)\n",
    "result_up = np.zeros((len(times), len(initial_state)))\n",
    "result_down = np.zeros((len(times), len(initial_state)))\n",
    "for _ in range(ave):\n",
    "    for i, t in enumerate(times):\n",
    "        res = Evolve.simulate(\n",
    "            initialState=initial_state, time=t, dt=dt, mu=mu, U=U, J=J,\n",
    "            structure=structure)\n",
    "        result_up[i] += ED.project_state_into_spinsectors(res)[0] / ave\n",
    "        result_down[i] += ED.project_state_into_spinsectors(res)[1] / ave\n",
    "toc = time.time()\n",
    "print(\"Q# evolution took \", toc-tic, \"s\")"
   ]
  },
  {
   "cell_type": "code",
   "execution_count": 13,
   "metadata": {},
   "outputs": [
    {
     "data": {
      "text/plain": [
       "Text(0.5, 0, 'time')"
      ]
     },
     "execution_count": 13,
     "metadata": {},
     "output_type": "execute_result"
    },
    {
     "data": {
      "image/png": "[encoded data removed]",
      "text/plain": [
       "<Figure size 432x288 with 1 Axes>"
      ]
     },
     "metadata": {
      "needs_background": "light"
     },
     "output_type": "display_data"
    }
   ],
   "source": [
    "# plottable_times = np.append(np.array([0]), times)\n",
    "fig = plt.figure()\n",
    "for i in range(len(initial_state[:3])):\n",
    "    plt.plot(sim['Time'], sim['Re(N1 Site {})'.format(i + 1)],\n",
    "             color=colors[i], label='N{}up'.format(i + 1))\n",
    "    plt.plot(times, result_up[:, i], \n",
    "             color=colors[i], linestyle='--')\n",
    "plt.xlabel('time')\n",
    "# plt.legend()"
   ]
  },
  {
   "cell_type": "code",
   "execution_count": null,
   "metadata": {},
   "outputs": [],
   "source": []
  }
 ],
 "metadata": {
  "kernelspec": {
   "display_name": "Python 3",
   "language": "python",
   "name": "python3"
  },
  "language_info": {
   "codemirror_mode": {
    "name": "ipython",
    "version": 3
   },
   "file_extension": ".py",
   "mimetype": "text/x-python",
   "name": "python",
   "nbconvert_exporter": "python",
   "pygments_lexer": "ipython3",
   "version": "3.6.7"
  },
  "latex_envs": {
   "LaTeX_envs_menu_present": true,
   "autoclose": false,
   "autocomplete": true,
   "bibliofile": "biblio.bib",
   "cite_by": "apalike",
   "current_citInitial": 1,
   "eqLabelWithNumbers": true,
   "eqNumInitial": 1,
   "hotkeys": {
    "equation": "Ctrl-E",
    "itemize": "Ctrl-I"
   },
   "labels_anchors": false,
   "latex_user_defs": false,
   "report_style_numbering": false,
   "user_envs_cfg": false
  },
  "varInspector": {
   "cols": {
    "lenName": 16,
    "lenType": 16,
    "lenVar": 40
   },
   "kernels_config": {
    "python": {
     "delete_cmd_postfix": "",
     "delete_cmd_prefix": "del ",
     "library": "var_list.py",
     "varRefreshCmd": "print(var_dic_list())"
    },
    "r": {
     "delete_cmd_postfix": ") ",
     "delete_cmd_prefix": "rm(",
     "library": "var_list.r",
     "varRefreshCmd": "cat(var_dic_list()) "
    }
   },
   "types_to_exclude": [
    "module",
    "function",
    "builtin_function_or_method",
    "instance",
    "_Feature"
   ],
   "window_display": false
  }
 },
 "nbformat": 4,
 "nbformat_minor": 2
}
