{
 "cells": [
  {
   "cell_type": "code",
   "execution_count": 1,
   "metadata": {
    "code_folding": []
   },
   "outputs": [],
   "source": [
    "# import all relevant libraries dependencies and set up the backend\n",
    "import qsharp\n",
    "import time\n",
    "import progressbar\n",
    "import numpy as np\n",
    "import matplotlib.pyplot as plt\n",
    "from qsharp import Result\n",
    "import exact_diagonalisation.ed_ising as ED \n",
    "from Quantum.Isinglongrange import Evolve, EvolveSingleTimestepDummy\n",
    "\n",
    "c1_a = '#003AF0'\n",
    "c2_a = '#008F24'\n",
    "c3_a = '#FE7B22'\n",
    "c4_a = '#FE000C'\n",
    "c5_a = '#FB30F2'\n",
    "c6_a = '#82E0AA'\n",
    "c7_a = '#9966CC'\n",
    "c8_a = '#7FFFD4'\n",
    "c9_a = '#66FF00'\n",
    "c10_a = '#8B008B'\n",
    "c11_a = '#000000'\n",
    "colors = [c1_a,c2_a,c3_a,c4_a,c5_a,c6_a,c7_a,c8_a,c9_a,c10_a,c11_a]"
   ]
  },
  {
   "cell_type": "markdown",
   "metadata": {},
   "source": [
    "# Time Evolution\n",
    "\n",
    "Assumes an L x W lattice of sites and expects list length JW to specify hx and hz specified for each site and a matrix J (LW x LW) specified for the couplings. Evolves under Hamiltonian\n",
    "H ≔ - J Σ'ᵢⱼ Zᵢ Zⱼ - hZ Σᵢ Zᵢ - hX Σᵢ Xᵢ\n",
    "\n",
    "Can specify the couplings which then builds the J array based on these being the couplings over distance or can specify the J matrix yourself.\n",
    "\n",
    "Expects initial state of correct shape in 0s and 1s (Z basis) to be specified."
   ]
  },
  {
   "cell_type": "code",
   "execution_count": 13,
   "metadata": {
    "code_folding": []
   },
   "outputs": [],
   "source": [
    "# define system parameters\n",
    "p = {}\n",
    "p['L'] = L = 6 # system length\n",
    "p['W'] = W  = 1 # system width\n",
    "p['N'] = p['L'] * p['W'] # number of system in the system\n",
    "p['hx'] = hx = np.array([1. for _ in range(L * W)]) # transverse Ising field for each site \n",
    "p['hz'] = hz = np.array([0. for _ in range(L * W)]) # longitudinal Ising field for each site \n",
    "couplings = [0., 1., 0.2, 0.5]\n",
    "J = [[0. for _ in range(L * W)] for _ in range(L * W)]\n",
    "for i in range(L * W):\n",
    "    for j in range(L * W):\n",
    "        s_r, s_c = i // W, i % W\n",
    "        t_r, t_c = j // W, j % W\n",
    "        if s_r == t_r:\n",
    "            h_dist = min([abs(s_c - t_c), W - abs(s_c - t_c)])\n",
    "            J[i][j] = couplings[h_dist]\n",
    "        elif s_c == t_c:\n",
    "            v_dist = min([abs(s_r - t_r), L - abs(s_r - t_r)])\n",
    "            J[i][j] = couplings[v_dist]\n",
    "p['J'] = np.asarray(J) # Ising interaction for all sites (i,j)\n",
    "p['t_initial'] = 0 # begin of time evolution\n",
    "p['dt'] = dt = 0.005 # time-step\n",
    "p['t_final'] = total_time = 1.0 # end of time evolution\n",
    "times = np.linspace(0, total_time, num=11)\n",
    "# times = np.arange(start=p['t_initial'], stop=(p['t_final']+p['dt']), step=p['dt'])\n",
    "ave = 500 # measurement count for qsharp meas\n",
    "initial_state = [[1, 0, 0, 0, 0, 0],]\n",
    "                 #[0, 0, 0, 0]]\n",
    "flat_initial_state = [item for sub in initial_state for item in sub]\n",
    "state_table = ED.generate_state_table(p)"
   ]
  },
  {
   "cell_type": "code",
   "execution_count": 14,
   "metadata": {},
   "outputs": [
    {
     "name": "stdout",
     "output_type": "stream",
     "text": [
      "Exact evolution took  0.3480687141418457 s\n"
     ]
    }
   ],
   "source": [
    "# do exact evolution\n",
    "tic = time.time()\n",
    "sim, state_table = ED.evolve(p, state_table, flat_initial_state, kind=\"list\", trotterised=True)\n",
    "toc = time.time()\n",
    "print(\"Exact evolution took \", toc-tic, \"s\")"
   ]
  },
  {
   "cell_type": "code",
   "execution_count": 15,
   "metadata": {
    "code_folding": [],
    "scrolled": false
   },
   "outputs": [
    {
     "name": "stderr",
     "output_type": "stream",
     "text": [
      "100% (500 of 500) |######################| Elapsed Time: 0:55:26 ETA:  00:00:00"
     ]
    },
    {
     "name": "stdout",
     "output_type": "stream",
     "text": [
      "Q# Evolution took 55 mins 38 s\n"
     ]
    }
   ],
   "source": [
    "# do qsharp evolution\n",
    "tic = time.time()\n",
    "result = np.zeros((len(times), *np.array(initial_state).shape))\n",
    "progress_bar = progressbar.ProgressBar(max_value=ave)\n",
    "points_taken = 0\n",
    "for _ in range(ave):\n",
    "    for i, t in enumerate(times):\n",
    "        res = Evolve.simulate(initialState=flat_initial_state,\n",
    "                              time=t, dt=dt,\n",
    "                              g=list(hx), h=list(hz), J=J, nested=False)\n",
    "        result[i] += np.array(res).reshape(np.array(initial_state).shape) / ave\n",
    "    points_taken += 1\n",
    "    progress_bar.update(points_taken)\n",
    "toc = time.time()\n",
    "print(\"Q# Evolution took {} mins {} s\".format(int((toc-tic) // 60), int((toc-tic) % 60)))"
   ]
  },
  {
   "cell_type": "code",
   "execution_count": 19,
   "metadata": {},
   "outputs": [
    {
     "data": {
      "text/plain": [
       "<matplotlib.legend.Legend at 0x113906c18>"
      ]
     },
     "execution_count": 19,
     "metadata": {},
     "output_type": "execute_result"
    },
    {
     "data": {
      "image/png": "[encoded data removed]",
      "text/plain": [
       "<Figure size 432x288 with 1 Axes>"
      ]
     },
     "metadata": {
      "needs_background": "light"
     },
     "output_type": "display_data"
    }
   ],
   "source": [
    "# plot\n",
    "fig = plt.figure()\n",
    "qubits = [(0, 0), (0, 1), (0, 2), (0, 3), (0, 4), (0,5)]\n",
    "for i, q in enumerate(qubits):\n",
    "    site = p['W']*q[0]+q[1]\n",
    "    site_res = 1 - (sim['Zi Site {}'.format(site)] + 1) / 2\n",
    "    plt.plot(sim['Time'], site_res, label='{}'.format(q), marker='', linestyle='-', color=colors[i])\n",
    "    plt.plot(times, result[:, q[0], q[1]], color=colors[i], marker='o', linestyle='--')\n",
    "    \n",
    "handles, labels = fig.axes[0].get_legend_handles_labels()\n",
    "handles = list(handles) + [plt.Line2D((0, 1), (0, 0), color='k', linestyle='-'),\n",
    "                           plt.Line2D((0, 1), (0, 0), color='k',linestyle='--')]\n",
    "labels = list(labels) + ['ED', 'Q#']\n",
    "plt.xlabel('time')\n",
    "plt.legend(handles, labels)"
   ]
  },
  {
   "cell_type": "code",
   "execution_count": 47,
   "metadata": {},
   "outputs": [
    {
     "name": "stdout",
     "output_type": "stream",
     "text": [
      "Full Evolution\n",
      "\tCNOT: 7200\n",
      " \tQubitClifford: 1\n",
      " \tR: 8400\n",
      " \tMeasure: 4\n",
      " \tT: 0\n",
      " \tDepth: 0\n",
      " \tWidth: 4\n",
      " \tBorrowedWidth: 0\n",
      "\n",
      "Single Timestep\n",
      "\tCNOT: 12\n",
      " \tQubitClifford: 0\n",
      " \tR: 14\n",
      " \tMeasure: 0\n",
      " \tT: 0\n",
      " \tDepth: 0\n",
      " \tWidth: 4\n",
      " \tBorrowedWidth: 0\n",
      "\n"
     ]
    }
   ],
   "source": [
    "# estimate resources\n",
    "full_gatecount = Evolve.estimate_resources(initialState=flat_initial_state,\n",
    "                                           time=t, dt=dt, g=list(hx), h=list(hz), J=J, nested=False)\n",
    "timestep_gatecount = EvolveSingleTimestepDummy.estimate_resources(\n",
    "                        nSites=len(flat_initial_state), dt=dt, g=list(hx), h=list(hz), J=J, nested=False)\n",
    "\n",
    "print('Full Evolution')\n",
    "print(*['\\t{}: {}\\n'.format(k, v) for k, v in full_gatecount.items()])\n",
    "print('Single Timestep')\n",
    "print(*['\\t{}: {}\\n'.format(k, v) for k, v in timestep_gatecount.items()])"
   ]
  },
  {
   "cell_type": "markdown",
   "metadata": {},
   "source": [
    "## Outstanding\n",
    "- Get depth to measure not just T gates"
   ]
  },
  {
   "cell_type": "code",
   "execution_count": null,
   "metadata": {},
   "outputs": [],
   "source": []
  }
 ],
 "metadata": {
  "kernelspec": {
   "display_name": "Python 3",
   "language": "python",
   "name": "python3"
  },
  "language_info": {
   "codemirror_mode": {
    "name": "ipython",
    "version": 3
   },
   "file_extension": ".py",
   "mimetype": "text/x-python",
   "name": "python",
   "nbconvert_exporter": "python",
   "pygments_lexer": "ipython3",
   "version": "3.6.7"
  },
  "latex_envs": {
   "LaTeX_envs_menu_present": true,
   "autoclose": false,
   "autocomplete": true,
   "bibliofile": "biblio.bib",
   "cite_by": "apalike",
   "current_citInitial": 1,
   "eqLabelWithNumbers": true,
   "eqNumInitial": 1,
   "hotkeys": {
    "equation": "Ctrl-E",
    "itemize": "Ctrl-I"
   },
   "labels_anchors": false,
   "latex_user_defs": false,
   "report_style_numbering": false,
   "user_envs_cfg": false
  },
  "varInspector": {
   "cols": {
    "lenName": 16,
    "lenType": 16,
    "lenVar": 40
   },
   "kernels_config": {
    "python": {
     "delete_cmd_postfix": "",
     "delete_cmd_prefix": "del ",
     "library": "var_list.py",
     "varRefreshCmd": "print(var_dic_list())"
    },
    "r": {
     "delete_cmd_postfix": ") ",
     "delete_cmd_prefix": "rm(",
     "library": "var_list.r",
     "varRefreshCmd": "cat(var_dic_list()) "
    }
   },
   "types_to_exclude": [
    "module",
    "function",
    "builtin_function_or_method",
    "instance",
    "_Feature"
   ],
   "window_display": false
  }
 },
 "nbformat": 4,
 "nbformat_minor": 2
}
