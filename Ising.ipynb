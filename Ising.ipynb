{
 "cells": [
  {
   "cell_type": "code",
   "execution_count": 9,
   "metadata": {
    "code_folding": [
     0
    ]
   },
   "outputs": [],
   "source": [
    "# import all relevant libraries dependencies and set up the backend\n",
    "import qsharp\n",
    "import numpy as np\n",
    "import matplotlib.pyplot as plt\n",
    "from qsharp import Result\n",
    "from Quantum.Isinglattice import Evolve, EvolveSingleTimestepDummy\n",
    "\n",
    "c1_a = '#003AF0'\n",
    "c2_a = '#008F24'\n",
    "c3_a = '#FE7B22'\n",
    "c4_a = '#FE000C'\n",
    "c5_a = '#FB30F2'\n",
    "c6_a = '#82E0AA'\n",
    "c7_a = '#9966CC'\n",
    "c8_a = '#7FFFD4'\n",
    "c9_a = '#66FF00'\n",
    "c10_a = '#8B008B'\n",
    "c11_a = '#000000'\n",
    "colors = [c1_a,c2_a,c3_a,c4_a,c5_a,c6_a,c7_a,c8_a,c9_a,c10_a,c11_a]"
   ]
  },
  {
   "cell_type": "markdown",
   "metadata": {},
   "source": [
    "# Time Evolution\n",
    "\n",
    "Assumes an L x W lattice of sites and expects list length JW to specify hx and hz specified for each site and a matrix J (LW x LW) specified for the couplings. Evolves under Hamiltonian\n",
    "H ≔ - J Σ'ᵢⱼ Zᵢ Zⱼ - hZ Σᵢ Zᵢ - hX Σᵢ Xᵢ\n",
    "\n",
    "Can specify the couplings which then builds the J array based on these being the couplings over distance or can specify the J matrix yourself.\n",
    "\n",
    "Expects initial state of correct shape in 0s and 1s (Z basis) to be specified."
   ]
  },
  {
   "cell_type": "code",
   "execution_count": 6,
   "metadata": {},
   "outputs": [],
   "source": [
    "# define system parameters\n",
    "L = 2\n",
    "W = 4\n",
    "couplings = [0., 0.5, 0.1]\n",
    "hx = [0.5 for _ in range(L * W)]\n",
    "hz = [0. for _ in range(L * W)]\n",
    "dt = 0.01\n",
    "total_time = 5.0\n",
    "ave = 50\n",
    "J = [[0. for _ in range(L * W)] for _ in range(L * W)]\n",
    "for i in range(L * W):\n",
    "    for j in range(L * W):\n",
    "        s_r, s_c = i // W, i % W\n",
    "        t_r, t_c = j // W, j % W\n",
    "        if s_r == t_r:\n",
    "            h_dist = min([abs(s_c - t_c), W - abs(s_c - t_c)])\n",
    "            J[i][j] = couplings[h_dist]\n",
    "        elif s_c == t_c:\n",
    "            v_dist = min([abs(s_r - t_r), L - abs(s_r - t_r)])\n",
    "            J[i][j] = couplings[v_dist]\n",
    "times = np.linspace(0, total_time, num=10)\n",
    "initial_state = [[0, 1, 0, 0],\n",
    "                 [0, 0, 0, 0]]"
   ]
  },
  {
   "cell_type": "code",
   "execution_count": 7,
   "metadata": {
    "scrolled": false
   },
   "outputs": [
    {
     "ename": "NameError",
     "evalue": "name 'Evolve' is not defined",
     "output_type": "error",
     "traceback": [
      "\u001b[0;31m---------------------------------------------------------------------------\u001b[0m",
      "\u001b[0;31mNameError\u001b[0m                                 Traceback (most recent call last)",
      "\u001b[0;32m<ipython-input-7-ac59d047ec72>\u001b[0m in \u001b[0;36m<module>\u001b[0;34m\u001b[0m\n\u001b[1;32m      4\u001b[0m \u001b[0;32mfor\u001b[0m \u001b[0m_\u001b[0m \u001b[0;32min\u001b[0m \u001b[0mrange\u001b[0m\u001b[0;34m(\u001b[0m\u001b[0mave\u001b[0m\u001b[0;34m)\u001b[0m\u001b[0;34m:\u001b[0m\u001b[0;34m\u001b[0m\u001b[0;34m\u001b[0m\u001b[0m\n\u001b[1;32m      5\u001b[0m     \u001b[0;32mfor\u001b[0m \u001b[0mi\u001b[0m\u001b[0;34m,\u001b[0m \u001b[0mt\u001b[0m \u001b[0;32min\u001b[0m \u001b[0menumerate\u001b[0m\u001b[0;34m(\u001b[0m\u001b[0mtimes\u001b[0m\u001b[0;34m)\u001b[0m\u001b[0;34m:\u001b[0m\u001b[0;34m\u001b[0m\u001b[0;34m\u001b[0m\u001b[0m\n\u001b[0;32m----> 6\u001b[0;31m         res = Evolve.simulate(initialState=flat_initial_state,\n\u001b[0m\u001b[1;32m      7\u001b[0m                               \u001b[0mtime\u001b[0m\u001b[0;34m=\u001b[0m\u001b[0mt\u001b[0m\u001b[0;34m,\u001b[0m \u001b[0mdt\u001b[0m\u001b[0;34m=\u001b[0m\u001b[0mdt\u001b[0m\u001b[0;34m,\u001b[0m\u001b[0;34m\u001b[0m\u001b[0;34m\u001b[0m\u001b[0m\n\u001b[1;32m      8\u001b[0m                               hx=hx, hz=hz, J=J)\n",
      "\u001b[0;31mNameError\u001b[0m: name 'Evolve' is not defined"
     ]
    }
   ],
   "source": [
    "# run evolution\n",
    "result = np.zeros((len(times), *np.array(initial_state).shape))\n",
    "flat_initial_state = [item for sub in initial_state for item in sub]\n",
    "for _ in range(ave):\n",
    "    for i, t in enumerate(times):\n",
    "        res = Evolve.simulate(initialState=flat_initial_state,\n",
    "                              time=t, dt=dt,\n",
    "                              hx=hx, hz=hz, J=J)\n",
    "        result[i] += np.array(res).reshape(np.array(initial_state).shape) / ave"
   ]
  },
  {
   "cell_type": "code",
   "execution_count": 12,
   "metadata": {
    "code_folding": []
   },
   "outputs": [
    {
     "data": {
      "image/png": "[encoded data removed]",
      "text/plain": [
       "<Figure size 432x288 with 1 Axes>"
      ]
     },
     "metadata": {
      "needs_background": "light"
     },
     "output_type": "display_data"
    }
   ],
   "source": [
    "# plot\n",
    "fig = plt.figure()\n",
    "qubits = [(0, 0), (0, 1), (0, 2), (1, 3)]\n",
    "for i, q in enumerate(qubits):\n",
    "    plt.plot(times, result[:, q[0], q[1]], label='{}'.format(q), color=colors[i])\n",
    "plt.xlabel('time')\n",
    "plt.ylabel(r'$\\langle Z\\rangle$')\n",
    "plt.legend();"
   ]
  },
  {
   "cell_type": "code",
   "execution_count": 13,
   "metadata": {},
   "outputs": [
    {
     "name": "stdout",
     "output_type": "stream",
     "text": [
      "Full Evolution\n",
      "\tCNOT: 28000\n",
      " \tQubitClifford: 1\n",
      " \tR: 22000\n",
      " \tMeasure: 8\n",
      " \tT: 0\n",
      " \tDepth: 0\n",
      " \tWidth: 8\n",
      " \tBorrowedWidth: 0\n",
      "\n",
      "Single Timestep\n",
      "\tCNOT: 56\n",
      " \tQubitClifford: 0\n",
      " \tR: 44\n",
      " \tMeasure: 0\n",
      " \tT: 0\n",
      " \tDepth: 0\n",
      " \tWidth: 8\n",
      " \tBorrowedWidth: 0\n",
      "\n"
     ]
    }
   ],
   "source": [
    "# estimate resources\n",
    "full_gatecount = Evolve.estimate_resources(initialState=flat_initial_state,\n",
    "                                           time=times[-1], dt=dt, hx=hx, hz=hz, J=J)\n",
    "timestep_gatecount = EvolveSingleTimestepDummy.estimate_resources(dt=dt, hx=hx, hz=hz, J=J,\n",
    "                                                                  nSites=len(flat_initial_state))\n",
    "\n",
    "print('Full Evolution')\n",
    "print(*['\\t{}: {}\\n'.format(k, v) for k, v in full_gatecount.items()])\n",
    "print('Single Timestep')\n",
    "print(*['\\t{}: {}\\n'.format(k, v) for k, v in timestep_gatecount.items()])"
   ]
  },
  {
   "cell_type": "markdown",
   "metadata": {},
   "source": [
    "## Outstanding\n",
    "- Get depth to measure not just T gates\n",
    "- Improve parallelism"
   ]
  }
 ],
 "metadata": {
  "kernelspec": {
   "display_name": "Python 3",
   "language": "python",
   "name": "python3"
  },
  "language_info": {
   "codemirror_mode": {
    "name": "ipython",
    "version": 3
   },
   "file_extension": ".py",
   "mimetype": "text/x-python",
   "name": "python",
   "nbconvert_exporter": "python",
   "pygments_lexer": "ipython3",
   "version": "3.7.4"
  },
  "latex_envs": {
   "LaTeX_envs_menu_present": true,
   "autoclose": false,
   "autocomplete": true,
   "bibliofile": "biblio.bib",
   "cite_by": "apalike",
   "current_citInitial": 1,
   "eqLabelWithNumbers": true,
   "eqNumInitial": 1,
   "hotkeys": {
    "equation": "Ctrl-E",
    "itemize": "Ctrl-I"
   },
   "labels_anchors": false,
   "latex_user_defs": false,
   "report_style_numbering": false,
   "user_envs_cfg": false
  },
  "varInspector": {
   "cols": {
    "lenName": 16,
    "lenType": 16,
    "lenVar": 40
   },
   "kernels_config": {
    "python": {
     "delete_cmd_postfix": "",
     "delete_cmd_prefix": "del ",
     "library": "var_list.py",
     "varRefreshCmd": "print(var_dic_list())"
    },
    "r": {
     "delete_cmd_postfix": ") ",
     "delete_cmd_prefix": "rm(",
     "library": "var_list.r",
     "varRefreshCmd": "cat(var_dic_list()) "
    }
   },
   "types_to_exclude": [
    "module",
    "function",
    "builtin_function_or_method",
    "instance",
    "_Feature"
   ],
   "window_display": false
  }
 },
 "nbformat": 4,
 "nbformat_minor": 2
}
