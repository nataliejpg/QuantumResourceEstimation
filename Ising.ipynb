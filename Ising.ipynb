{
 "cells": [
  {
   "cell_type": "code",
   "execution_count": 1,
   "metadata": {
    "code_folding": []
   },
   "outputs": [],
   "source": [
    "# import python libraries dependencies and set up the backend\n",
    "import numpy as np\n",
    "import time\n",
    "import progressbar\n",
    "import random\n",
    "import matplotlib.pyplot as plt\n",
    "import matplotlib.colors as mcolors\n",
    "import exact_diagonalisation.ed_ising as ED \n",
    "\n",
    "tabcols = list(mcolors.TABLEAU_COLORS)"
   ]
  },
  {
   "cell_type": "markdown",
   "metadata": {},
   "source": [
    "# Time Evolution\n",
    "\n",
    "Assumes an L x W lattice of sites and uses lists length L x W to specify hx for each site and a matrix J (LW x LW) specified for the couplings. Evolves under Hamiltonian\n",
    "\\begin{equation}\\label{eq:}\n",
    "H = -\\sum_{i, j>i} J_{ij} \\sigma_z^i\\sigma_z^j - \\sum_{i}hx_i \\sigma_x^i\n",
    "\\end{equation}\n",
    "\n",
    "Generates random initial state L x W in the z basis. An initial state in the X basis can be used instead by specifying the xinit and xmeas parameters. nnonly parameter should be set to true if only nearest neighbour coupling is present"
   ]
  },
  {
   "cell_type": "code",
   "execution_count": 36,
   "metadata": {
    "code_folding": []
   },
   "outputs": [],
   "source": [
    "# define system parameters\n",
    "xinit = False\n",
    "xmeas = False\n",
    "nnonly = True\n",
    "parallel = True\n",
    "p = {}\n",
    "p['L'] = L = 3 # system length\n",
    "p['W'] = W  = 2 # system width\n",
    "p['N'] = N = p['L'] * p['W'] # number of system in the system\n",
    "p['hx'] = hx = np.array([.5 + np.random.random() for _ in range(L * W)]) # transverse Ising field for each site \n",
    "p['hz'] = hz = np.array([0. for _ in range(L * W)]) # longitudinal Ising field for each site \n",
    "\n",
    "J_val = 1.\n",
    "if nnonly:\n",
    "    J = np.zeros((N, N))\n",
    "    for i in range(N):\n",
    "        for j in range(N):\n",
    "            s_r, s_c = i // W, i % W\n",
    "            t_r, t_c = j // W, j % W\n",
    "            h_dist = abs(s_r - t_r)\n",
    "            v_dist = abs(s_c - t_c)\n",
    "            dist = np.sqrt(h_dist**2 + v_dist** 2)\n",
    "            if dist == 1:\n",
    "                J[i][j] = J_val\n",
    "    p['J'] = J\n",
    "    J = J_val\n",
    "else:\n",
    "    J = np.zeros((N, N))\n",
    "    for i in range(N):\n",
    "        for j in range(N):\n",
    "            s_r, s_c = i // W, i % W\n",
    "            t_r, t_c = j // W, j % W\n",
    "            h_dist = abs(s_r - t_r)\n",
    "            v_dist = abs(s_c - t_c)\n",
    "            dist = np.sqrt(h_dist**2 + v_dist** 2)\n",
    "            if dist > 0:\n",
    "                J[i][j] = J_val / dist**2\n",
    "    J = J.tolist()\n",
    "    p['J'] = J\n",
    "p['t_initial'] = 0 # begin of time evolution\n",
    "p['dt'] = dt = 0.01 # time-step\n",
    "p['t_final'] = total_time = 1.0 # end of time evolution\n",
    "times = np.linspace(0, total_time, num=11)\n",
    "ave = 500 # measurement count for qsharp meas\n",
    "initial_state = [random.getrandbits(1) for _ in range(N)]\n",
    "state_table = ED.generate_state_table(p)\n",
    "basis = 'X' if xmeas else 'Z'"
   ]
  },
  {
   "cell_type": "code",
   "execution_count": 37,
   "metadata": {},
   "outputs": [],
   "source": [
    "# import Q# library (based on whether or not nearest neighbour)\n",
    "import qsharp\n",
    "from qsharp import Result\n",
    "if nnonly:\n",
    "    from Quantum.Isingnearest import Evolve, EvolveSingleTimestepDummy\n",
    "else:\n",
    "    from Quantum.Isinglongrange import Evolve, EvolveSingleTimestepDummy"
   ]
  },
  {
   "cell_type": "code",
   "execution_count": 38,
   "metadata": {},
   "outputs": [
    {
     "name": "stdout",
     "output_type": "stream",
     "text": [
      "Exact evolution took  0.16480779647827148 s\n"
     ]
    }
   ],
   "source": [
    "# do exact evolution\n",
    "tic = time.time()\n",
    "sim, state_table = ED.evolve(p, state_table, initial_state, kind=\"list\", trotterised=True, xinit=xinit)\n",
    "toc = time.time()\n",
    "print(\"Exact evolution took \", toc-tic, \"s\")"
   ]
  },
  {
   "cell_type": "code",
   "execution_count": 39,
   "metadata": {
    "code_folding": [],
    "scrolled": false
   },
   "outputs": [
    {
     "name": "stderr",
     "output_type": "stream",
     "text": [
      "100% (500 of 500) |######################| Elapsed Time: 0:11:20 ETA:  00:00:00"
     ]
    },
    {
     "name": "stdout",
     "output_type": "stream",
     "text": [
      "Q# Evolution took 11 mins 21 s\n"
     ]
    }
   ],
   "source": [
    "# do qsharp evolution\n",
    "tic = time.time()\n",
    "result = np.zeros((len(times), N))\n",
    "progress_bar = progressbar.ProgressBar(max_value=ave)\n",
    "points_taken = 0\n",
    "for _ in range(ave):\n",
    "    for i, t in enumerate(times):\n",
    "        res = Evolve.simulate(\n",
    "                initialState=initial_state, time=t, dt=dt, g=list(hx), h=list(hz), J=J,\n",
    "                parallel=parallel, xinit=xinit, xmeas=xmeas)\n",
    "        result[i] += np.array(res) / ave\n",
    "    points_taken += 1\n",
    "    progress_bar.update(points_taken)\n",
    "toc = time.time()\n",
    "print(\"Q# Evolution took {} mins {} s\".format(int((toc-tic) // 60), int((toc-tic) % 60)))"
   ]
  },
  {
   "cell_type": "code",
   "execution_count": 40,
   "metadata": {},
   "outputs": [
    {
     "data": {
      "text/plain": [
       "<matplotlib.legend.Legend at 0x7f9493457ef0>"
      ]
     },
     "execution_count": 40,
     "metadata": {},
     "output_type": "execute_result"
    },
    {
     "data": {
      "image/png": "[encoded data removed]",
      "text/plain": [
       "<Figure size 432x288 with 1 Axes>"
      ]
     },
     "metadata": {
      "needs_background": "light"
     },
     "output_type": "display_data"
    }
   ],
   "source": [
    "# plot\n",
    "fig = plt.figure()\n",
    "qubits = [(0, 0), (0, 1), (0, 2)]\n",
    "for i, q in enumerate(qubits):\n",
    "    site_res = 1 - (sim['{}i Site {}'.format(basis, i)] + 1) / 2\n",
    "    plt.plot(sim['Time'], site_res, label='{}'.format(q), marker='', linestyle='-', color=tabcols[i])\n",
    "    plt.plot(times, result[:, i], color=tabcols[i], marker='o', linestyle='--')\n",
    "plt.ylim(0, 1)  \n",
    "handles, labels = fig.axes[0].get_legend_handles_labels()\n",
    "handles = list(handles) + [plt.Line2D((0, 1), (0, 0), color='k', linestyle='-'),\n",
    "                           plt.Line2D((0, 1), (0, 0), color='k',linestyle='--')]\n",
    "labels = list(labels) + ['ED', 'Q#']\n",
    "plt.xlabel('time')\n",
    "plt.ylabel('time')\n",
    "plt.legend(handles, labels)"
   ]
  },
  {
   "cell_type": "markdown",
   "metadata": {},
   "source": [
    "# Resource Estimation\n",
    "\n",
    "Estimate the resources for the full evolution (1st order) and for a single timestep. Currently the depth only measures T gates of which there are none."
   ]
  },
  {
   "cell_type": "code",
   "execution_count": 42,
   "metadata": {},
   "outputs": [
    {
     "name": "stdout",
     "output_type": "stream",
     "text": [
      "Full Evolution\n",
      "\tCNOT: 800\n",
      " \tQubitClifford: 4\n",
      " \tR: 1600\n",
      " \tMeasure: 6\n",
      " \tT: 0\n",
      " \tDepth: 0\n",
      " \tWidth: 6\n",
      " \tBorrowedWidth: 0\n",
      "\n",
      "Single Timestep\n",
      "\tCNOT: 8\n",
      " \tQubitClifford: 0\n",
      " \tR: 16\n",
      " \tMeasure: 0\n",
      " \tT: 0\n",
      " \tDepth: 0\n",
      " \tWidth: 6\n",
      " \tBorrowedWidth: 0\n",
      "\n"
     ]
    }
   ],
   "source": [
    "# estimate resources\n",
    "full_gatecount = Evolve.estimate_resources(\n",
    "                    initialState=initial_state, time=t, dt=dt, g=list(hx), h=list(hz), J=J,\n",
    "                    parallel=parallel, xinit=xinit, xmeas=xmeas)\n",
    "timestep_gatecount = EvolveSingleTimestepDummy.estimate_resources(\n",
    "                        nSites=len(initial_state), dt=dt, g=list(hx), h=list(hz), J=J,\n",
    "                        parallel=parallel, xinit=xinit, xmeas=xmeas)\n",
    "\n",
    "print('Full Evolution')\n",
    "print(*['\\t{}: {}\\n'.format(k, v) for k, v in full_gatecount.items()])\n",
    "print('Single Timestep')\n",
    "print(*['\\t{}: {}\\n'.format(k, v) for k, v in timestep_gatecount.items()])"
   ]
  },
  {
   "cell_type": "code",
   "execution_count": null,
   "metadata": {},
   "outputs": [],
   "source": []
  }
 ],
 "metadata": {
  "kernelspec": {
   "display_name": "Python 3",
   "language": "python",
   "name": "python3"
  },
  "language_info": {
   "codemirror_mode": {
    "name": "ipython",
    "version": 3
   },
   "file_extension": ".py",
   "mimetype": "text/x-python",
   "name": "python",
   "nbconvert_exporter": "python",
   "pygments_lexer": "ipython3",
   "version": "3.6.7"
  },
  "latex_envs": {
   "LaTeX_envs_menu_present": true,
   "autoclose": false,
   "autocomplete": true,
   "bibliofile": "biblio.bib",
   "cite_by": "apalike",
   "current_citInitial": 1,
   "eqLabelWithNumbers": true,
   "eqNumInitial": 1,
   "hotkeys": {
    "equation": "Ctrl-E",
    "itemize": "Ctrl-I"
   },
   "labels_anchors": false,
   "latex_user_defs": false,
   "report_style_numbering": false,
   "user_envs_cfg": false
  },
  "varInspector": {
   "cols": {
    "lenName": 16,
    "lenType": 16,
    "lenVar": 40
   },
   "kernels_config": {
    "python": {
     "delete_cmd_postfix": "",
     "delete_cmd_prefix": "del ",
     "library": "var_list.py",
     "varRefreshCmd": "print(var_dic_list())"
    },
    "r": {
     "delete_cmd_postfix": ") ",
     "delete_cmd_prefix": "rm(",
     "library": "var_list.r",
     "varRefreshCmd": "cat(var_dic_list()) "
    }
   },
   "types_to_exclude": [
    "module",
    "function",
    "builtin_function_or_method",
    "instance",
    "_Feature"
   ],
   "window_display": false
  }
 },
 "nbformat": 4,
 "nbformat_minor": 2
}
